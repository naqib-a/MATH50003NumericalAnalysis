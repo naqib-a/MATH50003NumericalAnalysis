{
 "cells": [
  {
   "cell_type": "code",
   "execution_count": 12,
   "id": "21a066c4",
   "metadata": {},
   "outputs": [],
   "source": [
    "\n",
    "# SetRounding gives us setrounding function\n",
    "using ColorBitstring, SetRounding"
   ]
  },
  {
   "cell_type": "code",
   "execution_count": 2,
   "id": "6809e4a9",
   "metadata": {},
   "outputs": [
    {
     "data": {
      "text/plain": [
       "Float16(0.0004883)"
      ]
     },
     "metadata": {},
     "output_type": "display_data"
    }
   ],
   "source": [
    "x = Float16(2^(-11)) # Rounds 2^(-11) to the nearest Float16"
   ]
  },
  {
   "cell_type": "code",
   "execution_count": 12,
   "id": "f980f9ce",
   "metadata": {},
   "outputs": [
    {
     "name": "stdout",
     "output_type": "stream",
     "text": [
      "\u001b[31m0\u001b[0m\u001b[32m00100\u001b[0m\u001b[34m0000000000\u001b[0m"
     ]
    }
   ],
   "source": [
    "printbits(x)"
   ]
  },
  {
   "cell_type": "code",
   "execution_count": null,
   "id": "998030c3",
   "metadata": {},
   "outputs": [
    {
     "data": {
      "text/plain": [
       "0.00048828125"
      ]
     },
     "execution_count": 14,
     "metadata": {},
     "output_type": "execute_result"
    }
   ],
   "source": [
    "# 2^(-11) = 2.0^(4-15) * (1.0000000000)_2\n",
    "2.0^(4-15) # matches x exactly"
   ]
  },
  {
   "cell_type": "code",
   "execution_count": 3,
   "id": "47ec4349",
   "metadata": {},
   "outputs": [
    {
     "data": {
      "text/plain": [
       "(Float16(0.000977), 0.0009765625)"
      ]
     },
     "metadata": {},
     "output_type": "display_data"
    }
   ],
   "source": [
    "x + x, 2.0^(-10) # adding is exact here since we get an exact float"
   ]
  },
  {
   "cell_type": "code",
   "execution_count": 23,
   "id": "fad99751",
   "metadata": {},
   "outputs": [
    {
     "data": {
      "text/plain": [
       "\"2^-11 * (1.0000000000)_2\""
      ]
     },
     "execution_count": 23,
     "metadata": {},
     "output_type": "execute_result"
    }
   ],
   "source": [
    "binarystring(x) # we can convert x to a readable string"
   ]
  },
  {
   "cell_type": "code",
   "execution_count": 27,
   "id": "6382217b",
   "metadata": {},
   "outputs": [
    {
     "data": {
      "text/plain": [
       "\"2^0 * (1.0000000001)_2\""
      ]
     },
     "execution_count": 27,
     "metadata": {},
     "output_type": "execute_result"
    }
   ],
   "source": [
    "binarystring(1+(x+x))"
   ]
  },
  {
   "cell_type": "code",
   "execution_count": 6,
   "id": "18370a42",
   "metadata": {},
   "outputs": [
    {
     "data": {
      "text/plain": [
       "\"2^0 * (1.0000000000)_2\""
      ]
     },
     "metadata": {},
     "output_type": "display_data"
    }
   ],
   "source": [
    "binarystring((1+x)+x) # (1 + x) + x ≠ 1 + (x+x)"
   ]
  },
  {
   "cell_type": "code",
   "execution_count": 7,
   "id": "f1b7d14b",
   "metadata": {},
   "outputs": [
    {
     "data": {
      "text/plain": [
       "\"2^-4 * (1.1100011100)_2\""
      ]
     },
     "metadata": {},
     "output_type": "display_data"
    }
   ],
   "source": [
    "binarystring((Float16(1)/3)^2) # matches what we computed by hand"
   ]
  },
  {
   "cell_type": "code",
   "execution_count": 8,
   "id": "d9f23f3e",
   "metadata": {},
   "outputs": [
    {
     "data": {
      "text/plain": [
       "(3.5999999999999996, 3.6)"
      ]
     },
     "metadata": {},
     "output_type": "display_data"
    }
   ],
   "source": [
    "# another non-associative example\n",
    "\n",
    "(1.1 + 1.2) + 1.3, 1.1 + (1.2+1.3)"
   ]
  },
  {
   "cell_type": "code",
   "execution_count": 9,
   "id": "64c54d21",
   "metadata": {},
   "outputs": [
    {
     "data": {
      "text/plain": [
       "\"2^1 * (1.100100100001111110110101010001000100001011010001100001000110100110001001100011001100010100010111000000011011100000111001101000100101001000000100100111000001000100010100110011111001100011101000000001000001011101111101010011000111011000100111001101100100010…)_2\""
      ]
     },
     "metadata": {},
     "output_type": "display_data"
    }
   ],
   "source": [
    "binarystring(π) # binary string works for some irrational constants"
   ]
  },
  {
   "cell_type": "code",
   "execution_count": 10,
   "id": "f9a30113",
   "metadata": {},
   "outputs": [
    {
     "data": {
      "text/plain": [
       "Float16(3.143)"
      ]
     },
     "metadata": {},
     "output_type": "display_data"
    }
   ],
   "source": [
    "Float16(π, RoundUp) # equivalent to fl^up(π)"
   ]
  },
  {
   "cell_type": "code",
   "execution_count": 28,
   "id": "ced3122e",
   "metadata": {},
   "outputs": [
    {
     "data": {
      "text/plain": [
       "Float16(3.14)"
      ]
     },
     "metadata": {},
     "output_type": "display_data"
    }
   ],
   "source": [
    "Float16(π, RoundDown) # equivalent to fl^down(π)\n",
    "\n",
    "# float16: 1 + 5 + 10"
   ]
  },
  {
   "cell_type": "code",
   "execution_count": 14,
   "id": "62ee3a17",
   "metadata": {},
   "outputs": [
    {
     "data": {
      "text/plain": [
       "\u001b[32m\u001b[1mTest Passed\u001b[22m\u001b[39m"
      ]
     },
     "metadata": {},
     "output_type": "display_data"
    }
   ],
   "source": [
    "# RoundUp and RoundDown give rigorous bounds. Since floats are rational we know its strict\n",
    "@test Float16(π, RoundDown) < π < Float16(π, RoundUp)"
   ]
  },
  {
   "cell_type": "code",
   "execution_count": 38,
   "id": "65d44082",
   "metadata": {},
   "outputs": [
    {
     "data": {
      "text/plain": [
       "0.33333334f0"
      ]
     },
     "metadata": {},
     "output_type": "display_data"
    }
   ],
   "source": [
    "# by default we round to the nearest\n",
    "x = Float32(1)\n",
    "x/3 # round to nearest"
   ]
  },
  {
   "cell_type": "code",
   "execution_count": 16,
   "id": "3c8b52b6",
   "metadata": {},
   "outputs": [
    {
     "data": {
      "text/plain": [
       "(0.3333333f0, 0.33333334f0)"
      ]
     },
     "metadata": {},
     "output_type": "display_data"
    }
   ],
   "source": [
    "# We can change the rounding mode for arithmetic operations\n",
    "setrounding(Float32, RoundDown) do\n",
    "    x/3\n",
    "end,\n",
    "setrounding(Float32, RoundUp) do\n",
    "    x/3\n",
    "end # Note x/3 in exact arithmetic is guaranteed to live between these two numbers"
   ]
  },
  {
   "cell_type": "code",
   "execution_count": 17,
   "id": "6c396383",
   "metadata": {},
   "outputs": [
    {
     "data": {
      "text/plain": [
       "exp_taylor (generic function with 1 method)"
      ]
     },
     "metadata": {},
     "output_type": "display_data"
    }
   ],
   "source": [
    "# Here is a simple example of\n",
    "# using Taylor series exp(x) ≈ Σ_{k=0}^n x^k/k!\n",
    "function exp_taylor(x, n)\n",
    "    ret = 0\n",
    "    for k = 0:n\n",
    "        ret = ret + x^k/factorial(big(k)) # need big(k) as otherwise factorial overflows\n",
    "    end\n",
    "    return ret\n",
    "end"
   ]
  },
  {
   "cell_type": "code",
   "execution_count": 18,
   "id": "e8e3ee44",
   "metadata": {},
   "outputs": [
    {
     "name": "stdout",
     "output_type": "stream",
     "text": [
      "  0.002637 seconds (14.74 k allocations: 962.336 KiB)\n"
     ]
    },
    {
     "data": {
      "text/plain": [
       "2.718281828459045235360287471352662497757247093699959574966967627724076630353416"
      ]
     },
     "metadata": {},
     "output_type": "display_data"
    }
   ],
   "source": [
    "@time exp_taylor(1.0, 1000) # worked but slow since using variable prec integers"
   ]
  },
  {
   "cell_type": "code",
   "execution_count": 19,
   "id": "39a525ee",
   "metadata": {},
   "outputs": [
    {
     "data": {
      "text/plain": [
       "exp_taylor_fast (generic function with 1 method)"
      ]
     },
     "metadata": {},
     "output_type": "display_data"
    }
   ],
   "source": [
    "# user Taylor series exp(x) ≈ Σ_{k=0}^n x^k/k!\n",
    "function exp_taylor_fast(x, n)\n",
    "    ret = 0\n",
    "    summand = 1\n",
    "    for k = 0:n\n",
    "        ret += summand\n",
    "        summand *= x/(k+1) # uses Float64 arithmetic\n",
    "    end\n",
    "    return ret\n",
    "end"
   ]
  },
  {
   "cell_type": "code",
   "execution_count": 20,
   "id": "b77e3f8d",
   "metadata": {},
   "outputs": [
    {
     "name": "stdout",
     "output_type": "stream",
     "text": [
      "  0.003573 seconds\n"
     ]
    },
    {
     "data": {
      "text/plain": [
       "2.7182818284590455"
      ]
     },
     "metadata": {},
     "output_type": "display_data"
    }
   ],
   "source": [
    "@time exp_taylor_fast(1.0, 1_000_000) # Much faster!"
   ]
  },
  {
   "cell_type": "code",
   "execution_count": 21,
   "id": "9e636dd1",
   "metadata": {},
   "outputs": [
    {
     "data": {
      "text/plain": [
       "4.440892098500626e-16"
      ]
     },
     "metadata": {},
     "output_type": "display_data"
    }
   ],
   "source": [
    "# very accurate computation of ℯ\n",
    "exp_taylor_fast(1.0, 1000) - ℯ # pretty accurate!"
   ]
  },
  {
   "cell_type": "code",
   "execution_count": 22,
   "id": "275f7342",
   "metadata": {},
   "outputs": [
    {
     "data": {
      "text/plain": [
       "2041.8329628976246"
      ]
     },
     "metadata": {},
     "output_type": "display_data"
    }
   ],
   "source": [
    "# Fails for negative x though:\n",
    "exp_taylor_fast(-50.0, 100000) - exp(-50) # Why did this FAIL?"
   ]
  },
  {
   "cell_type": "code",
   "execution_count": 71,
   "id": "d14cd999",
   "metadata": {},
   "outputs": [],
   "source": [
    "# We need to be able to analysis floating point error in order to use algorithms!"
   ]
  }
 ],
 "metadata": {
  "kernelspec": {
   "display_name": "Julia 1.8.4",
   "language": "julia",
   "name": "julia-1.8"
  },
  "language_info": {
   "file_extension": ".jl",
   "mimetype": "application/julia",
   "name": "julia",
   "version": "1.8.4"
  }
 },
 "nbformat": 4,
 "nbformat_minor": 5
}
